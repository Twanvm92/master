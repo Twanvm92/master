{
 "cells": [
  {
   "cell_type": "markdown",
   "metadata": {
    "slideshow": {
     "slide_type": "slide"
    }
   },
   "source": [
    "# Lab 6 Tutorial: Deep Learning with TensorFlow\n",
    "**Using the Keras API**"
   ]
  },
  {
   "cell_type": "code",
   "execution_count": 1,
   "metadata": {
    "hide_input": false,
    "slideshow": {
     "slide_type": "skip"
    }
   },
   "outputs": [
    {
     "name": "stderr",
     "output_type": "stream",
     "text": [
      "2022-03-27 17:37:00.736961: W tensorflow/stream_executor/platform/default/dso_loader.cc:64] Could not load dynamic library 'libcudart.so.11.0'; dlerror: libcudart.so.11.0: cannot open shared object file: No such file or directory\n",
      "2022-03-27 17:37:00.737063: I tensorflow/stream_executor/cuda/cudart_stub.cc:29] Ignore above cudart dlerror if you do not have a GPU set up on your machine.\n"
     ]
    }
   ],
   "source": [
    "# Auto-setup when running on Google Colab\n",
    "if 'google.colab' in str(get_ipython()):\n",
    "    !pip install openml\n",
    "\n",
    "# General imports\n",
    "%matplotlib inline\n",
    "import numpy as np\n",
    "import pandas as pd\n",
    "import matplotlib.pyplot as plt\n",
    "import openml as oml\n",
    "import tensorflow.keras as keras"
   ]
  },
  {
   "cell_type": "markdown",
   "metadata": {
    "slideshow": {
     "slide_type": "slide"
    }
   },
   "source": [
    "## Running example\n",
    "We use the Fashion-MNIST dataset, which consists of 28x28 pixel images of 10 classes of fashion items."
   ]
  },
  {
   "cell_type": "code",
   "execution_count": 2,
   "metadata": {
    "hide_input": true
   },
   "outputs": [
    {
     "data": {
      "image/png": "[encoded data removed]",
      "text/plain": [
       "<Figure size 720x360 with 5 Axes>"
      ]
     },
     "metadata": {},
     "output_type": "display_data"
    }
   ],
   "source": [
    "# Download FMINST data. Takes a while the first time.\n",
    "mnist = oml.datasets.get_dataset(40996)\n",
    "X, y, _, _ = mnist.get_data(target=mnist.default_target_attribute, dataset_format='array');\n",
    "X = X.reshape(70000, 28, 28)\n",
    "fmnist_classes = {0:\"T-shirt/top\", 1: \"Trouser\", 2: \"Pullover\", 3: \"Dress\", 4: \"Coat\", 5: \"Sandal\", \n",
    "                  6: \"Shirt\", 7: \"Sneaker\", 8: \"Bag\", 9: \"Ankle boot\"}\n",
    "\n",
    "# Take some random examples\n",
    "from random import randint\n",
    "fig, axes = plt.subplots(1, 5,  figsize=(10, 5))\n",
    "for i in range(5):\n",
    "    n = randint(0,70000)\n",
    "    axes[i].imshow(X[n], cmap=plt.cm.gray_r)\n",
    "    axes[i].set_xticks([])\n",
    "    axes[i].set_yticks([])\n",
    "    axes[i].set_xlabel(\"{}\".format(fmnist_classes[y[n]]))\n",
    "plt.show();"
   ]
  },
  {
   "cell_type": "code",
   "execution_count": 3,
   "metadata": {},
   "outputs": [
    {
     "data": {
      "text/plain": [
       "(70000, 28, 28)"
      ]
     },
     "execution_count": 3,
     "metadata": {},
     "output_type": "execute_result"
    }
   ],
   "source": [
    "X.shape"
   ]
  },
  {
   "cell_type": "markdown",
   "metadata": {},
   "source": [
    "### Preprocessing\n",
    "#### Reshaping\n",
    "To be able to feed this data through the network, the shape of the data must match the shape of the input layer.\n",
    "For normal dense layers, this will be a 'flattened' array. You can use:\n",
    "* [numpy.reshape()](https://numpy.org/doc/stable/reference/generated/numpy.reshape.html)\n",
    "* [Keras reshaping layers](https://keras.io/api/layers/reshaping_layers/), e.g. [Flatten](https://keras.io/api/layers/reshaping_layers/flatten/)\n",
    "    * Can also be used to flatten the data at the *output* of the network\n"
   ]
  },
  {
   "cell_type": "code",
   "execution_count": 4,
   "metadata": {},
   "outputs": [],
   "source": [
    "X = X.reshape((70000, 28 * 28))"
   ]
  },
  {
   "cell_type": "markdown",
   "metadata": {},
   "source": [
    "#### Rescaling\n",
    "Rescaling the data will help training a lot, and lead to faster convergence.\n",
    "You can use min-max scaling to [0,1] or standardization (mean 0, standard deviation 1).\n",
    "Note: We're using a simple division by the maximum possible value. This won't cause data leakage."
   ]
  },
  {
   "cell_type": "code",
   "execution_count": 7,
   "metadata": {},
   "outputs": [],
   "source": [
    "X = X.astype('float32') / 255"
   ]
  },
  {
   "cell_type": "markdown",
   "metadata": {},
   "source": [
    "#### Label formatting\n",
    "For multi-class classification, our output layer will usually have one output node per class. Therefore, we need to on-hot-encode the labels. E.g. class '4' becomes [0,0,0,0,1,0,...]\n",
    "* Keras has a helper function [to_categorical](https://www.tensorflow.org/api_docs/python/tf/keras/utils/to_categorical) to do this"
   ]
  },
  {
   "cell_type": "code",
   "execution_count": 8,
   "metadata": {},
   "outputs": [],
   "source": [
    "from tensorflow.keras.utils import to_categorical\n",
    "y = to_categorical(y)"
   ]
  },
  {
   "cell_type": "code",
   "execution_count": 9,
   "metadata": {},
   "outputs": [
    {
     "data": {
      "text/plain": [
       "((70000, 784), (70000, 10))"
      ]
     },
     "execution_count": 9,
     "metadata": {},
     "output_type": "execute_result"
    }
   ],
   "source": [
    "X.shape, y.shape"
   ]
  },
  {
   "cell_type": "markdown",
   "metadata": {},
   "source": [
    "### Train-test splits\n",
    "Usually, simple hold-outs are used. This is valid if the datasets are large enough, and you take into account the usual concerns, such as stratification and grouping. For smaller datasets, you can use cross-validation as well, but you may get high variance in the per-fold results as neural networks may not always converge."
   ]
  },
  {
   "cell_type": "code",
   "execution_count": 11,
   "metadata": {},
   "outputs": [],
   "source": [
    "# For Fashion MNIST, there exists a predefined stratified train-test split of 60000-10000. We therefore don't shuffle or stratify here.\n",
    "from sklearn.model_selection import train_test_split\n",
    "X_train, X_test, y_train, y_test = train_test_split(X, y, train_size=60000, random_state=0)"
   ]
  },
  {
   "cell_type": "markdown",
   "metadata": {},
   "source": [
    "We can further split the training set into a training and validation set"
   ]
  },
  {
   "cell_type": "code",
   "execution_count": 12,
   "metadata": {},
   "outputs": [],
   "source": [
    "Xf_train, x_val, yf_train, y_val = train_test_split(X_train, y_train, train_size=50000, shuffle=True, stratify=y_train, random_state=0)"
   ]
  },
  {
   "cell_type": "markdown",
   "metadata": {
    "hide_input": false,
    "slideshow": {
     "slide_type": "slide"
    }
   },
   "source": [
    "### Building Sequential networks\n",
    "* [Sequential](https://www.tensorflow.org/api_docs/python/tf/keras/Sequential) models are the simplest kind of neural nets. They consist of a series of layers, one after the other.\n",
    "* There exist [many types of layers](https://www.tensorflow.org/api_docs/python/tf/keras/layers)\n",
    "* For now, we'll only use [Dense](https://www.tensorflow.org/api_docs/python/tf/keras/layers/Dense) (fully-connected) layers. It has several important settings:\n",
    "    * units: the number of nodes\n",
    "    * activation: the [activation function](https://www.tensorflow.org/api_docs/python/tf/keras/activations) to use\n",
    "    * kernel_initializer: how to [initialize the weights](https://www.tensorflow.org/api_docs/python/tf/keras/initializers)\n",
    "    * kernel_regularizer: whether to apply L1/L2 [regularization](https://www.tensorflow.org/api_docs/python/tf/keras/regularizers)\n",
    "    \n",
    "``` python\n",
    "tf.keras.layers.Dense(\n",
    "    units, activation=None, use_bias=True, kernel_initializer='glorot_uniform',\n",
    "    bias_initializer='zeros', kernel_regularizer=None, bias_regularizer=None,\n",
    "    activity_regularizer=None, kernel_constraint=None, bias_constraint=None,\n",
    "    **kwargs\n",
    ")\n",
    "```"
   ]
  },
  {
   "cell_type": "markdown",
   "metadata": {},
   "source": [
    "A simple network with one hidden layer looks like this:\n",
    "* Sequential.add() adds a layer to the network\n",
    "* You can also pass an array of layers to the constructor: 'Sequential([layers])'\n",
    "* We use ReLU activation for the hidden layer and SoftMax for the output layer."
   ]
  },
  {
   "cell_type": "code",
   "execution_count": 13,
   "metadata": {},
   "outputs": [
    {
     "name": "stderr",
     "output_type": "stream",
     "text": [
      "2022-03-27 20:03:13.217507: E tensorflow/stream_executor/cuda/cuda_driver.cc:271] failed call to cuInit: UNKNOWN ERROR (100)\n",
      "2022-03-27 20:03:13.217567: I tensorflow/stream_executor/cuda/cuda_diagnostics.cc:156] kernel driver does not appear to be running on this host (MININT-GGGO5H3): /proc/driver/nvidia/version does not exist\n",
      "2022-03-27 20:03:13.219554: I tensorflow/core/platform/cpu_feature_guard.cc:151] This TensorFlow binary is optimized with oneAPI Deep Neural Network Library (oneDNN) to use the following CPU instructions in performance-critical operations:  AVX2 FMA\n",
      "To enable them in other operations, rebuild TensorFlow with the appropriate compiler flags.\n"
     ]
    }
   ],
   "source": [
    "from tensorflow.keras import models\n",
    "from tensorflow.keras import layers\n",
    "\n",
    "model = models.Sequential()\n",
    "model.add(layers.Dense(512, activation='relu', input_shape=(28 * 28,)))\n",
    "model.add(layers.Dense(10, activation='softmax'))"
   ]
  },
  {
   "cell_type": "markdown",
   "metadata": {},
   "source": [
    "#### The input layer\n",
    "Note that the input layer can be defined by 'input_shape'. Alternatively, you could also add an explicit input layer.\n",
    "In this case, the data is a flattened array of 28*28 inputs."
   ]
  },
  {
   "cell_type": "code",
   "execution_count": 11,
   "metadata": {},
   "outputs": [],
   "source": [
    "model = models.Sequential()\n",
    "model.add(layers.InputLayer(input_shape=(28 * 28,)))\n",
    "model.add(layers.Dense(512, activation='relu'))\n",
    "model.add(layers.Dense(10, activation='softmax'))"
   ]
  },
  {
   "cell_type": "markdown",
   "metadata": {},
   "source": [
    "#### Activation layers"
   ]
  },
  {
   "cell_type": "markdown",
   "metadata": {},
   "source": [
    "You can specify most activation functions, initializers, and regularizers as keyword strings.\n",
    "If you need more control, you can specify the activation as an activation layer. The Dense layer will then use a linear activation, and the next layers applied your preferred activation."
   ]
  },
  {
   "cell_type": "code",
   "execution_count": 12,
   "metadata": {},
   "outputs": [],
   "source": [
    "model = models.Sequential()\n",
    "model.add(layers.InputLayer(input_shape=(28 * 28,)))\n",
    "model.add(layers.Dense(512))\n",
    "model.add(layers.ReLU(negative_slope=0.1)) # A leaky ReLU\n",
    "model.add(layers.Dense(10, activation='softmax'))"
   ]
  },
  {
   "cell_type": "markdown",
   "metadata": {
    "slideshow": {
     "slide_type": "slide"
    }
   },
   "source": [
    "#### Model summary\n",
    "- 'model.summary()' prints a layer-wise summary of the model\n",
    "    - hidden layer 1 : (28 * 28 + 1) * 512 = 401920\n",
    "    - hidden layer 2 : (512 + 1) * 512 = 262656\n",
    "    - output layer: (512 + 1) * 10 = 5130"
   ]
  },
  {
   "cell_type": "code",
   "execution_count": 13,
   "metadata": {},
   "outputs": [],
   "source": [
    "## Add one more hidden layer for better performance\n",
    "model = models.Sequential()\n",
    "model.add(layers.Dense(512, activation='relu', input_shape=(28 * 28,)))\n",
    "model.add(layers.Dense(512, activation='relu'))\n",
    "model.add(layers.Dense(10, activation='softmax'))"
   ]
  },
  {
   "cell_type": "code",
   "execution_count": 14,
   "metadata": {
    "slideshow": {
     "slide_type": "-"
    }
   },
   "outputs": [
    {
     "name": "stdout",
     "output_type": "stream",
     "text": [
      "Model: \"sequential_3\"\n",
      "_________________________________________________________________\n",
      " Layer (type)                Output Shape              Param #   \n",
      "=================================================================\n",
      " dense_6 (Dense)             (None, 512)               401920    \n",
      "                                                                 \n",
      " dense_7 (Dense)             (None, 512)               262656    \n",
      "                                                                 \n",
      " dense_8 (Dense)             (None, 10)                5130      \n",
      "                                                                 \n",
      "=================================================================\n",
      "Total params: 669,706\n",
      "Trainable params: 669,706\n",
      "Non-trainable params: 0\n",
      "_________________________________________________________________\n"
     ]
    }
   ],
   "source": [
    "model.summary()"
   ]
  },
  {
   "cell_type": "markdown",
   "metadata": {
    "slideshow": {
     "slide_type": "slide"
    }
   },
   "source": [
    "### Choosing loss, optimizer, metrics\n",
    "\n",
    "'model.compile()' specifies how the model should be trained, i.e. which loss function and optimizer to use and which evaluation metrics to report.\n",
    "\n",
    "* __Loss function__ [See overview](https://www.tensorflow.org/api_docs/python/tf/keras/losses)\n",
    "    - Cross-entropy (log loss) for multi-class classification ($y_{true}$ is one-hot encoded)\n",
    "    - Use binary crossentropy for binary problems (single output node) \n",
    "    - Use sparse categorical crossentropy if $y_{true}$ is label-encoded (1,2,3,...)\n",
    "* __Optimizer__ [See overview](https://www.tensorflow.org/api_docs/python/tf/keras/optimizers)\n",
    "    - Any of the available optimizers. RMSprop usually works well.\n",
    "* __Metrics__ [See overview](https://www.tensorflow.org/api_docs/python/tf/keras/metrics)\n",
    "    - To monitor performance during training and testing, e.g. accuracy"
   ]
  },
  {
   "cell_type": "markdown",
   "metadata": {},
   "source": [
    "The defaults versions of all of these can be specified by keywords"
   ]
  },
  {
   "cell_type": "code",
   "execution_count": 14,
   "metadata": {},
   "outputs": [],
   "source": [
    "# Shorthand\n",
    "model.compile(loss='categorical_crossentropy', optimizer='rmsprop', metrics=['accuracy'])"
   ]
  },
  {
   "cell_type": "markdown",
   "metadata": {},
   "source": [
    "For more control, the actual functions can be passed."
   ]
  },
  {
   "cell_type": "code",
   "execution_count": 15,
   "metadata": {
    "slideshow": {
     "slide_type": "skip"
    }
   },
   "outputs": [],
   "source": [
    "from tensorflow.keras.optimizers import RMSprop\n",
    "from tensorflow.keras.losses import CategoricalCrossentropy\n",
    "from tensorflow.keras.metrics import Accuracy\n",
    "\n",
    "# Detailed\n",
    "model.compile(loss=CategoricalCrossentropy(label_smoothing=0.01),\n",
    "              optimizer=RMSprop(learning_rate=0.001, momentum=0.0),\n",
    "              metrics=[Accuracy()])"
   ]
  },
  {
   "cell_type": "markdown",
   "metadata": {
    "slideshow": {
     "slide_type": "slide"
    }
   },
   "source": [
    "### Training (fitting)\n",
    "The 'fit' function trains the network and returns a history of the training and validation loss and all metrics per epoch.\n",
    "\n",
    "```python\n",
    "network.fit(X_train, y_train, epochs=3, batch_size=64)\n",
    "```\n",
    "\n",
    "There are 2 important hyperparameters:\n",
    "* Number of epochs: enough to allow convergence\n",
    "    * Too much: model starts overfitting (or just wastes time)\n",
    "    \n",
    "    \n",
    "* Batch size: small batches (e.g. 32, 64,... samples) often preferred\n",
    "    * 'Noisy' training data makes overfitting less likely\n",
    "        * Larger batches generalize less well ('generalization gap')\n",
    "    * Requires less memory (especially in GPUs)\n",
    "    * Large batches do speed up training, may converge in fewer epochs"
   ]
  },
  {
   "cell_type": "markdown",
   "metadata": {},
   "source": [
    "#### Repeated fitting\n",
    "Calling 'model.fit' multiple times does not recreate the model from scratch (like scikit-learn does), it just continues training with the stored weights. To train from scratch, e.g. with different hyperparameters, you need to recreate the model, e.g. by wrapping it as a create_model function."
   ]
  },
  {
   "cell_type": "code",
   "execution_count": 16,
   "metadata": {},
   "outputs": [],
   "source": [
    "def create_model():\n",
    "    model = models.Sequential()\n",
    "    model.add(layers.Dense(512, activation='relu', kernel_initializer='he_normal', input_shape=(28 * 28,)))\n",
    "    model.add(layers.Dense(512, activation='relu', kernel_initializer='he_normal'))\n",
    "    model.add(layers.Dense(10, activation='softmax'))\n",
    "    model.compile(loss='categorical_crossentropy', optimizer='rmsprop', metrics=['accuracy'])\n",
    "    return model"
   ]
  },
  {
   "cell_type": "markdown",
   "metadata": {},
   "source": [
    "#### Tracking progress\n",
    "Calling 'fit' will print out the progress for every epoch, and returns a 'history' object which all losses and evaluation metrics."
   ]
  },
  {
   "cell_type": "code",
   "execution_count": 17,
   "metadata": {
    "slideshow": {
     "slide_type": "-"
    }
   },
   "outputs": [
    {
     "name": "stdout",
     "output_type": "stream",
     "text": [
      "Epoch 1/3\n",
      "782/782 [==============================] - 7s 8ms/step - loss: 2.3028 - accuracy: 0.0995\n",
      "Epoch 2/3\n",
      "782/782 [==============================] - 6s 8ms/step - loss: 2.3027 - accuracy: 0.0972\n",
      "Epoch 3/3\n",
      "782/782 [==============================] - 6s 8ms/step - loss: 2.3027 - accuracy: 0.0976\n"
     ]
    }
   ],
   "source": [
    "model = create_model()\n",
    "history = model.fit(Xf_train, yf_train, epochs=3, batch_size=64);"
   ]
  },
  {
   "cell_type": "code",
   "execution_count": 18,
   "metadata": {},
   "outputs": [
    {
     "data": {
      "text/plain": [
       "'{\"class_name\": \"Sequential\", \"config\": {\"name\": \"sequential_1\", \"layers\": [{\"class_name\": \"InputLayer\", \"config\": {\"batch_input_shape\": [null, 784], \"dtype\": \"float32\", \"sparse\": false, \"ragged\": false, \"name\": \"dense_2_input\"}}, {\"class_name\": \"Dense\", \"config\": {\"name\": \"dense_2\", \"trainable\": true, \"batch_input_shape\": [null, 784], \"dtype\": \"float32\", \"units\": 512, \"activation\": \"relu\", \"use_bias\": true, \"kernel_initializer\": {\"class_name\": \"HeNormal\", \"config\": {\"seed\": null}}, \"bias_initializer\": {\"class_name\": \"Zeros\", \"config\": {}}, \"kernel_regularizer\": null, \"bias_regularizer\": null, \"activity_regularizer\": null, \"kernel_constraint\": null, \"bias_constraint\": null}}, {\"class_name\": \"Dense\", \"config\": {\"name\": \"dense_3\", \"trainable\": true, \"dtype\": \"float32\", \"units\": 512, \"activation\": \"relu\", \"use_bias\": true, \"kernel_initializer\": {\"class_name\": \"HeNormal\", \"config\": {\"seed\": null}}, \"bias_initializer\": {\"class_name\": \"Zeros\", \"config\": {}}, \"kernel_regularizer\": null, \"bias_regularizer\": null, \"activity_regularizer\": null, \"kernel_constraint\": null, \"bias_constraint\": null}}, {\"class_name\": \"Dense\", \"config\": {\"name\": \"dense_4\", \"trainable\": true, \"dtype\": \"float32\", \"units\": 10, \"activation\": \"softmax\", \"use_bias\": true, \"kernel_initializer\": {\"class_name\": \"GlorotUniform\", \"config\": {\"seed\": null}}, \"bias_initializer\": {\"class_name\": \"Zeros\", \"config\": {}}, \"kernel_regularizer\": null, \"bias_regularizer\": null, \"activity_regularizer\": null, \"kernel_constraint\": null, \"bias_constraint\": null}}]}, \"keras_version\": \"2.8.0\", \"backend\": \"tensorflow\"}'"
      ]
     },
     "execution_count": 18,
     "metadata": {},
     "output_type": "execute_result"
    }
   ],
   "source": [
    "model.to_json()"
   ]
  },
  {
   "cell_type": "markdown",
   "metadata": {},
   "source": [
    "You can also specify a validation set so that the validation loss and accuracy is also returned.\n",
    "'verbose=0' will silence the output prints."
   ]
  },
  {
   "cell_type": "code",
   "execution_count": 19,
   "metadata": {},
   "outputs": [],
   "source": [
    "model = create_model()\n",
    "history = model.fit(Xf_train, yf_train, epochs=3, batch_size=32, verbose=0,\n",
    "                    validation_data=(x_val, y_val))"
   ]
  },
  {
   "cell_type": "markdown",
   "metadata": {},
   "source": [
    "The returned history contains evaluation data (loss and metrics) for every epoch"
   ]
  },
  {
   "cell_type": "code",
   "execution_count": 21,
   "metadata": {},
   "outputs": [
    {
     "data": {
      "text/plain": [
       "{'loss': [0.5196696519851685, 0.4197826385498047, 0.3965308368206024],\n",
       " 'accuracy': [0.8141800761222839, 0.8545200824737549, 0.8647000789642334],\n",
       " 'val_loss': [0.444828063249588, 0.45543763041496277, 0.4412410259246826],\n",
       " 'val_accuracy': [0.8461000323295593, 0.8510000109672546, 0.8672000169754028]}"
      ]
     },
     "execution_count": 21,
     "metadata": {},
     "output_type": "execute_result"
    }
   ],
   "source": [
    "history.history"
   ]
  },
  {
   "cell_type": "markdown",
   "metadata": {
    "slideshow": {
     "slide_type": "slide"
    }
   },
   "source": [
    "### Predictions and evaluations\n",
    "We can now call `predict` to generate predictions, and `evaluate` the trained model on the entire test set\n",
    "\n",
    "``` python\n",
    "network.predict(X_test)\n",
    "test_loss, test_acc = network.evaluate(X_test, y_test)\n",
    "```"
   ]
  },
  {
   "cell_type": "code",
   "execution_count": 20,
   "metadata": {},
   "outputs": [
    {
     "name": "stdout",
     "output_type": "stream",
     "text": [
      "[0.10082239 0.09878232 0.09870552 0.0989995  0.0986093  0.09911362\n",
      " 0.09989244 0.10162302 0.10172037 0.10173147]\n"
     ]
    },
    {
     "data": {
      "text/plain": [
       "[]"
      ]
     },
     "execution_count": 20,
     "metadata": {},
     "output_type": "execute_result"
    },
    {
     "data": {
      "image/png": "[encoded data removed]",
      "text/plain": [
       "<Figure size 144x144 with 1 Axes>"
      ]
     },
     "metadata": {},
     "output_type": "display_data"
    }
   ],
   "source": [
    "predictions = model.predict(X_test)\n",
    "\n",
    "# Visualize one of the predictions\n",
    "sample_id = 0\n",
    "print(predictions[sample_id])\n",
    "\n",
    "np.set_printoptions(precision=7)\n",
    "fig, axes = plt.subplots(1, 1, figsize=(2, 2))\n",
    "axes.imshow(X_test[sample_id].reshape(28, 28), cmap=plt.cm.gray_r)\n",
    "axes.set_xlabel(\"True label: {}\".format(y_test[sample_id]))\n",
    "axes.set_xticks([])\n",
    "axes.set_yticks([])"
   ]
  },
  {
   "cell_type": "code",
   "execution_count": 21,
   "metadata": {},
   "outputs": [
    {
     "name": "stdout",
     "output_type": "stream",
     "text": [
      "313/313 [==============================] - 1s 2ms/step - loss: 2.3029 - accuracy: 0.1000\n",
      "Test accuracy: 0.10000000149011612\n"
     ]
    }
   ],
   "source": [
    "test_loss, test_acc = model.evaluate(X_test, y_test)\n",
    "print('Test accuracy:', test_acc)"
   ]
  },
  {
   "cell_type": "markdown",
   "metadata": {
    "slideshow": {
     "slide_type": "slide"
    }
   },
   "source": [
    "## Checking the learning curve\n",
    "There are several ways to check the learning curve\n",
    "* Wait until the training is finished, then plot the results in the returned history\n",
    "* Add a callback to the fit function that re-draws the learning curve in real time with every update\n",
    "    * An example implementation is given below\n",
    "* Use an external tool such as [TensorBoard](https://www.tensorflow.org/tensorboard/get_started)\n",
    "* There are also commercial tools, e.g. [WeightsAndBiases](https://www.wandb.com/)"
   ]
  },
  {
   "cell_type": "code",
   "execution_count": 22,
   "metadata": {},
   "outputs": [],
   "source": [
    "from IPython.display import clear_output\n",
    "\n",
    "# For plotting the learning curve in real time\n",
    "class TrainingPlot(keras.callbacks.Callback):\n",
    "    \n",
    "    # This function is called when the training begins\n",
    "    def on_train_begin(self, logs={}):\n",
    "        # Initialize the lists for holding the logs, losses and accuracies\n",
    "        self.losses = []\n",
    "        self.acc = []\n",
    "        self.val_losses = []\n",
    "        self.val_acc = []\n",
    "        self.logs = []\n",
    "        self.max_acc = 0\n",
    "    \n",
    "    # This function is called at the end of each epoch\n",
    "    def on_epoch_end(self, epoch, logs={}):\n",
    "        \n",
    "        # Append the logs, losses and accuracies to the lists\n",
    "        self.logs.append(logs)\n",
    "        self.losses.append(logs.get('loss'))\n",
    "        self.acc.append(logs.get('accuracy'))\n",
    "        self.val_losses.append(logs.get('val_loss'))\n",
    "        self.val_acc.append(logs.get('val_accuracy'))\n",
    "        self.max_acc = max(self.max_acc, logs.get('val_accuracy'))\n",
    "        \n",
    "        # Before plotting ensure at least 2 epochs have passed\n",
    "        if len(self.losses) > 1:\n",
    "            \n",
    "            # Clear the previous plot\n",
    "            clear_output(wait=True)\n",
    "            N = np.arange(0, len(self.losses))\n",
    "            \n",
    "            # Plot train loss, train acc, val loss and val acc against epochs passed\n",
    "            plt.figure(figsize=(8,3))\n",
    "            plt.plot(N, self.losses, lw=2, c=\"b\", linestyle=\"-\", label = \"train_loss\")\n",
    "            plt.plot(N, self.acc, lw=2, c=\"r\", linestyle=\"-\", label = \"train_acc\")\n",
    "            plt.plot(N, self.val_losses, lw=2, c=\"b\", linestyle=\":\", label = \"val_loss\")\n",
    "            plt.plot(N, self.val_acc, lw=2, c=\"r\", linestyle=\":\", label = \"val_acc\")\n",
    "            plt.title(\"Training Loss and Accuracy [Epoch {}, Max Acc {:.4f}]\".format(epoch, self.max_acc))\n",
    "            plt.xlabel(\"Epoch #\")\n",
    "            plt.ylabel(\"Loss/Accuracy\")\n",
    "            plt.legend()\n",
    "            plt.show()"
   ]
  },
  {
   "cell_type": "code",
   "execution_count": 23,
   "metadata": {},
   "outputs": [
    {
     "data": {
      "image/png": "[encoded data removed]",
      "text/plain": [
       "<Figure size 576x216 with 1 Axes>"
      ]
     },
     "metadata": {
      "needs_background": "light"
     },
     "output_type": "display_data"
    }
   ],
   "source": [
    "from sklearn.model_selection import train_test_split\n",
    "\n",
    "plot_losses = TrainingPlot()\n",
    "model = create_model()\n",
    "history = model.fit(Xf_train, yf_train, epochs=25, batch_size=512, verbose=0,\n",
    "                    validation_data=(x_val, y_val), callbacks=[plot_losses])"
   ]
  },
  {
   "cell_type": "markdown",
   "metadata": {
    "slideshow": {
     "slide_type": "slide"
    }
   },
   "source": [
    "### Early stopping\n",
    "* Stop training when the validation loss (or validation accuracy) no longer improves\n",
    "* Loss can be bumpy: use a moving average or wait for $k$ steps without improvement\n",
    "\n",
    "``` python\n",
    "earlystop = callbacks.EarlyStopping(monitor='val_loss', patience=3)\n",
    "model.fit(x_train, y_train, epochs=25, batch_size=512, callbacks=[earlystop])\n",
    "```"
   ]
  },
  {
   "cell_type": "code",
   "execution_count": 24,
   "metadata": {},
   "outputs": [
    {
     "data": {
      "image/png": "[encoded data removed]",
      "text/plain": [
       "<Figure size 576x216 with 1 Axes>"
      ]
     },
     "metadata": {
      "needs_background": "light"
     },
     "output_type": "display_data"
    }
   ],
   "source": [
    "from tensorflow.keras import callbacks\n",
    "\n",
    "earlystop = callbacks.EarlyStopping(monitor='val_loss', patience=3)\n",
    "model = create_model()\n",
    "history = model.fit(Xf_train, yf_train, epochs=25, batch_size=512, verbose=0,\n",
    "                    validation_data=(x_val, y_val), callbacks=[plot_losses, earlystop])"
   ]
  },
  {
   "cell_type": "markdown",
   "metadata": {
    "slideshow": {
     "slide_type": "slide"
    }
   },
   "source": [
    "## Regularization\n",
    "There are several ways that we can regularize our models it they are overfitting:\n",
    "- Get more data\n",
    "- Make the network smaller (e.g. use fewer nodes in the layers, or use fewer layers)\n",
    "- Regularize the model weights (e.g. by L1/L2 regularization)\n",
    "- Dropout\n",
    "- Batch normalization also has a regularization effect\n",
    "\n",
    "### Weight regularization (weight decay)\n",
    "* Weight regularization can be applied to layers using a [kernel regularizer](https://www.tensorflow.org/api_docs/python/tf/keras/regularizers)\n",
    "- L1 regularization: leads to _sparse networks_ with many weights that are 0\n",
    "- L2 regularization: leads to many very small weights"
   ]
  },
  {
   "cell_type": "code",
   "execution_count": 25,
   "metadata": {},
   "outputs": [
    {
     "data": {
      "image/png": "[encoded data removed]",
      "text/plain": [
       "<Figure size 576x216 with 1 Axes>"
      ]
     },
     "metadata": {
      "needs_background": "light"
     },
     "output_type": "display_data"
    }
   ],
   "source": [
    "from tensorflow.keras import regularizers\n",
    "\n",
    "earlystop = callbacks.EarlyStopping(monitor='val_loss', patience=5)\n",
    "model = create_model()\n",
    "history = model.fit(Xf_train, yf_train, epochs=50, batch_size=512, verbose=0,\n",
    "                    validation_data=(x_val, y_val), callbacks=[plot_losses, earlystop])"
   ]
  },
  {
   "cell_type": "markdown",
   "metadata": {
    "slideshow": {
     "slide_type": "slide"
    }
   },
   "source": [
    "### Dropout\n",
    "* Dropout randomly sets a number of layer activations to 0. This avoids that non-significant patterns are 'memorized' by the model.\n",
    "* It is added to the model via a [Dropout layer](https://www.tensorflow.org/api_docs/python/tf/keras/layers/Dropout)\n",
    "* The _dropout rate_ (the fraction of the outputs that are zeroed-out) is usually between 0.1 and 0.5, but should be tuned to the specific network.\n",
    "* You could add dropout after any dense layer."
   ]
  },
  {
   "cell_type": "code",
   "execution_count": 26,
   "metadata": {},
   "outputs": [
    {
     "data": {
      "image/png": "[encoded data removed]",
      "text/plain": [
       "<Figure size 576x216 with 1 Axes>"
      ]
     },
     "metadata": {
      "needs_background": "light"
     },
     "output_type": "display_data"
    }
   ],
   "source": [
    "model = models.Sequential()\n",
    "model.add(layers.Dense(256, activation='relu', input_shape=(28 * 28,)))\n",
    "model.add(layers.Dropout(0.3))\n",
    "model.add(layers.Dense(32, activation='relu'))\n",
    "model.add(layers.Dropout(0.3))\n",
    "model.add(layers.Dense(10, activation='softmax'))\n",
    "model.compile(loss='categorical_crossentropy', optimizer='rmsprop', metrics=['accuracy'])\n",
    "plot_losses = TrainingPlot()\n",
    "history = model.fit(Xf_train, yf_train, epochs=50, batch_size=512, verbose=0,\n",
    "                    validation_data=(x_val, y_val), callbacks=[plot_losses, earlystop])"
   ]
  },
  {
   "cell_type": "markdown",
   "metadata": {
    "slideshow": {
     "slide_type": "slide"
    }
   },
   "source": [
    "### Batch Normalization\n",
    "* Batch normalization normalizes the activations of the previous layer within each batch\n",
    "    * Within a batch, set the mean activation close to 0 and the standard deviation close to 1\n",
    "        * Across badges, use exponential moving average of batch-wise mean and variance\n",
    "    * Allows deeper networks less prone to vanishing or exploding gradients"
   ]
  },
  {
   "cell_type": "markdown",
   "metadata": {},
   "source": [
    "```python\n",
    "\n",
    "```\n"
   ]
  },
  {
   "cell_type": "code",
   "execution_count": 29,
   "metadata": {
    "slideshow": {
     "slide_type": "slide"
    }
   },
   "outputs": [
    {
     "data": {
      "image/png": "[encoded data removed]",
      "text/plain": [
       "<Figure size 576x216 with 1 Axes>"
      ]
     },
     "metadata": {
      "needs_background": "light"
     },
     "output_type": "display_data"
    }
   ],
   "source": [
    "model = models.Sequential()\n",
    "model.add(layers.Dense(265, activation='relu', input_shape=(28 * 28,)))\n",
    "model.add(layers.BatchNormalization())\n",
    "model.add(layers.Dense(64, activation='relu'))\n",
    "model.add(layers.BatchNormalization())\n",
    "model.add(layers.Dense(32, activation='relu'))\n",
    "model.add(layers.BatchNormalization())\n",
    "model.add(layers.Dense(10, activation='softmax'))\n",
    "model.compile(loss='categorical_crossentropy', optimizer='rmsprop', metrics=['accuracy'])\n",
    "plot_losses = TrainingPlot()\n",
    "history = model.fit(Xf_train, yf_train, epochs=50, batch_size=512, verbose=0,\n",
    "                    validation_data=(x_val, y_val), callbacks=[plot_losses, earlystop])"
   ]
  },
  {
   "cell_type": "markdown",
   "metadata": {},
   "source": [
    "#### Combining multiple regularizers\n",
    "There is some debate about whether it makes sense to combine multiple regularizers, and in which order. What works (or not) depends on the structure and size of the network and the dataset at hand. \n",
    "\n",
    "For instance, since Batch Normalization already does some regularization, Dropout may not be needed. However, in this case (see below), the combination does help. Sometimes it helps do use Dropout after Batch Normalization only in the deepest layers.\n",
    "\n",
    "BatchNormalization is sometimes done before the Dense layer, but in general it works better if it is applied after the dense layer. Likewise, dropout can be applied before or after Batch Normalization. Using Dropout before Batch Normalization, however, will include 0's in the normalization statistics, which is not ideal.\n",
    "[Here is an interesting paper on this topic](https://arxiv.org/pdf/1801.05134.pdf)"
   ]
  },
  {
   "cell_type": "code",
   "execution_count": 27,
   "metadata": {},
   "outputs": [
    {
     "data": {
      "image/png": "[encoded data removed]",
      "text/plain": [
       "<Figure size 576x216 with 1 Axes>"
      ]
     },
     "metadata": {
      "needs_background": "light"
     },
     "output_type": "display_data"
    }
   ],
   "source": [
    "network = models.Sequential()\n",
    "network.add(layers.Dense(265, activation='relu', input_shape=(28 * 28,)))\n",
    "network.add(layers.BatchNormalization())\n",
    "network.add(layers.Dropout(0.3))\n",
    "network.add(layers.Dense(64, activation='relu'))\n",
    "network.add(layers.BatchNormalization())\n",
    "network.add(layers.Dropout(0.3))\n",
    "network.add(layers.Dense(32, activation='relu'))\n",
    "network.add(layers.BatchNormalization())\n",
    "network.add(layers.Dropout(0.3))\n",
    "network.add(layers.Dense(10, activation='softmax'))\n",
    "network.compile(loss='categorical_crossentropy', optimizer='rmsprop', metrics=['accuracy'])\n",
    "plot_losses = TrainingPlot()\n",
    "history = network.fit(Xf_train, yf_train, epochs=50, batch_size=512, verbose=0,\n",
    "                      validation_data=(x_val, y_val), callbacks=[plot_losses, earlystop])"
   ]
  },
  {
   "cell_type": "markdown",
   "metadata": {
    "slideshow": {
     "slide_type": "slide"
    }
   },
   "source": [
    "### Tuning multiple hyperparameters\n",
    "* Keras has an associated tuning library, [keras-tuner](https://www.tensorflow.org/tutorials/keras/keras_tuner), with several tuning techniques:\n",
    "- RandomSearch\n",
    "- Hyperband\n",
    "- BayesianOptimization\n",
    "- Sklearn (for tuning scikit-learn models)\n",
    "\n",
    "We'll cover Hyperband and Bayesian Optimization later.\n",
    "\n",
    "Note: keras-tuner creates a folder with all results per 'project' (see the 'project_name' parameter).\n",
    "You will need to remove the folder or change the project name to run it again."
   ]
  },
  {
   "cell_type": "code",
   "execution_count": 28,
   "metadata": {},
   "outputs": [
    {
     "name": "stdout",
     "output_type": "stream",
     "text": [
      "\u001b[33mWARNING: You are using pip version 22.0.3; however, version 22.0.4 is available.\n",
      "You should consider upgrading via the '/home/twan/anaconda3/envs/ml_engineering/bin/python -m pip install --upgrade pip' command.\u001b[0m\u001b[33m\n",
      "\u001b[0m"
     ]
    }
   ],
   "source": [
    "!pip install -q -U keras-tuner"
   ]
  },
  {
   "cell_type": "code",
   "execution_count": 29,
   "metadata": {},
   "outputs": [],
   "source": [
    "from tensorflow.keras import optimizers\n",
    "import keras_tuner as kt\n",
    "\n",
    "\n",
    "def build_model(hp):\n",
    "    model = models.Sequential()\n",
    "\n",
    "    # Tune the number of units in the dense layers\n",
    "    # Choose an optimal value between 32-512\n",
    "    hp_units = hp.Int('units', min_value = 32, max_value = 265, step = 32)\n",
    "\n",
    "    model.add(keras.layers.Dense(units = hp_units, activation = 'relu', input_shape=(28 * 28,)))\n",
    "    model.add(keras.layers.Dense(units = hp_units, activation = 'relu'))\n",
    "    model.add(keras.layers.Dense(10))\n",
    "\n",
    "    # Tune the learning rate for the optimizer \n",
    "    # Choose an optimal value from 0.01, 0.001, or 0.0001\n",
    "    hp_learning_rate = hp.Choice('learning_rate', values = [1e-2, 1e-3, 1e-4]) \n",
    "\n",
    "    model.compile(optimizer = optimizers.Adam(learning_rate = hp_learning_rate),\n",
    "                  loss = 'categorical_crossentropy',\n",
    "                  metrics = ['accuracy'])\n",
    "    return model\n",
    "\n",
    "tuner = kt.RandomSearch(build_model, max_trials=5, objective = 'val_accuracy', project_name='lab7')"
   ]
  },
  {
   "cell_type": "code",
   "execution_count": 33,
   "metadata": {},
   "outputs": [],
   "source": [
    "# Uncomment to run. It takes a while.\n",
    "# tuner.search(Xf_train, yf_train, epochs = 10, validation_data = (x_val, y_val), callbacks = [TrainingPlot()])\n",
    "\n",
    "# Get the optimal hyperparameters\n",
    "#best_hps = tuner.get_best_hyperparameters(num_trials = 1)[0]"
   ]
  },
  {
   "cell_type": "markdown",
   "metadata": {},
   "source": [
    "* You can wrap Keras models as scikit-learn models using [KerasClassifier](https://www.tensorflow.org/api_docs/python/tf/keras/wrappers/scikit_learn/KerasClassifier) and use any tuning technique"
   ]
  },
  {
   "cell_type": "code",
   "execution_count": 34,
   "metadata": {},
   "outputs": [
    {
     "name": "stderr",
     "output_type": "stream",
     "text": [
      "/var/folders/0t/5d8ttqzd773fy0wq3h5db0xr0000gn/T/ipykernel_63314/5830362.py:24: DeprecationWarning: KerasClassifier is deprecated, use Sci-Keras (https://github.com/adriangb/scikeras) instead.\n",
      "  model = KerasClassifier(build_fn=build_model,epochs=4,batch_size=16)\n"
     ]
    }
   ],
   "source": [
    "from tensorflow.keras.wrappers.scikit_learn import KerasClassifier\n",
    "\n",
    "def build_model(var_activation='relu',var_optimizer='adam'):\n",
    "    \"\"\" Uses arguments to build Keras model. \"\"\"\n",
    "    model = models.Sequential()\n",
    "    model.add(layers.Dense(64,activation=var_activation, input_shape=(28 * 28,)))\n",
    "    model.add(layers.Dense(32,activation=var_activation))\n",
    "    model.add(layers.Dense(16,activation=var_activation))\n",
    "    model.add(layers.Dense(10,activation='softmax'))\n",
    "    model.compile(loss=\"categorical_crossentropy\",\n",
    "                optimizer=var_optimizer,\n",
    "                metrics=[\"accuracy\"])\n",
    "    return model\n",
    "\n",
    "# Search space\n",
    "_activations=['tanh','relu','selu']\n",
    "_optimizers=['sgd','adam']\n",
    "_batch_size=[16,32,64]\n",
    "params=dict(var_activation=_activations,\n",
    "            var_optimizer=_optimizers,\n",
    "            batch_size=_batch_size)\n",
    "\n",
    "# Wrap\n",
    "model = KerasClassifier(build_fn=build_model,epochs=4,batch_size=16)"
   ]
  },
  {
   "cell_type": "code",
   "execution_count": 35,
   "metadata": {},
   "outputs": [],
   "source": [
    "from sklearn.model_selection import RandomizedSearchCV\n",
    "\n",
    "# Uncomment to run. It takes a while.\n",
    "#rscv = RandomizedSearchCV(model, param_distributions=params, cv=3, n_iter=10, verbose=1, n_jobs=-1)\n",
    "#rscv_results = rscv.fit(Xf_train,yf_train)"
   ]
  },
  {
   "cell_type": "code",
   "execution_count": 37,
   "metadata": {},
   "outputs": [],
   "source": [
    "#print('Best score is: {} using {}'.format(rscv_results.best_score_, rscv_results.best_params_))"
   ]
  },
  {
   "cell_type": "markdown",
   "metadata": {},
   "source": [
    "### Further reading\n",
    "\n",
    "https://www.tensorflow.org/learn\n",
    "\n",
    "http://playground.tensorflow.org\n",
    "\n",
    "https://www.tensorflow.org/tensorboard"
   ]
  }
 ],
 "metadata": {
  "anaconda-cloud": {},
  "celltoolbar": "Slideshow",
  "hide_input": false,
  "kernelspec": {
   "display_name": "Python 3 (ipykernel)",
   "language": "python",
   "name": "python3"
  },
  "language_info": {
   "codemirror_mode": {
    "name": "ipython",
    "version": 3
   },
   "file_extension": ".py",
   "mimetype": "text/x-python",
   "name": "python",
   "nbconvert_exporter": "python",
   "pygments_lexer": "ipython3",
   "version": "3.9.7"
  }
 },
 "nbformat": 4,
 "nbformat_minor": 4
}
